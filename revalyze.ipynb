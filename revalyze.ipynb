{
 "cells": [
  {
   "cell_type": "code",
   "execution_count": 1,
   "id": "27d3a399",
   "metadata": {},
   "outputs": [],
   "source": [
    "from selenium import webdriver\n",
    "from time import sleep\n",
    "import time\n",
    "from selenium.webdriver.common.by import By \n",
    "from selenium.webdriver.support.ui import WebDriverWait\n",
    "from selenium.webdriver.support import expected_conditions as EC\n",
    "from selenium.common.exceptions import StaleElementReferenceException, TimeoutException, NoSuchElementException, ElementClickInterceptedException\n",
    "import numpy as np\n",
    "import pandas as pd\n",
    "import matplotlib.pyplot as plt\n",
    "import seaborn as sns\n",
    "import nltk\n",
    "from transformers import pipeline\n",
    "from transformers import AutoTokenizer, TFAutoModelForSequenceClassification\n",
    "from scipy.special import softmax\n",
    "import base64\n",
    "from io import BytesIO\n",
    "from flask import Flask, render_template, request\n",
    "import re\n",
    "from wordcloud import WordCloud"
   ]
  },
  {
   "cell_type": "code",
   "execution_count": 2,
   "id": "11612049",
   "metadata": {},
   "outputs": [
    {
     "data": {
      "text/plain": [
       "\"app = Flask(__name__)\\n@app.route('/', methods=['GET', 'POST'])\\ndef index():\\n    result = None\\n    if request.method == 'POST':\\n        link = request.form.get('link')\\n        if link:\\n            action = request.form.get('action')\\n            if action == 'fast':\\n                overall_sentiment, plot_base64 = fastbutton(link)\\n                result = {\\n                    'overall_sentiment': overall_sentiment,\\n                    'plot_base64': plot_base64\\n                }\\n            elif action == 'slow':\\n                overall_sentiment, plot_base64 = slowbutton(link)\\n                result = {\\n                    'overall_sentiment': overall_sentiment,\\n                    'plot_base64': plot_base64\\n                }\\n    return render_template('index.html', result=result)\\n\\nif __name__ == '__main__':\\n    app.run(debug=True)\""
      ]
     },
     "execution_count": 2,
     "metadata": {},
     "output_type": "execute_result"
    }
   ],
   "source": [
    "'''app = Flask(__name__)\n",
    "@app.route('/', methods=['GET', 'POST'])\n",
    "def index():\n",
    "    result = None\n",
    "    if request.method == 'POST':\n",
    "        link = request.form.get('link')\n",
    "        if link:\n",
    "            action = request.form.get('action')\n",
    "            if action == 'fast':\n",
    "                overall_sentiment, plot_base64 = fastbutton(link)\n",
    "                result = {\n",
    "                    'overall_sentiment': overall_sentiment,\n",
    "                    'plot_base64': plot_base64\n",
    "                }\n",
    "            elif action == 'slow':\n",
    "                overall_sentiment, plot_base64 = slowbutton(link)\n",
    "                result = {\n",
    "                    'overall_sentiment': overall_sentiment,\n",
    "                    'plot_base64': plot_base64\n",
    "                }\n",
    "    return render_template('index.html', result=result)\n",
    "\n",
    "if __name__ == '__main__':\n",
    "    app.run(debug=True)'''"
   ]
  },
  {
   "cell_type": "code",
   "execution_count": 3,
   "id": "8333bc65",
   "metadata": {},
   "outputs": [],
   "source": [
    "#collecting reviews\n",
    "def data(pl):\n",
    "    path_to_chromedriver = r\"C:\\Path\\To\\chromedriver.exe\"\n",
    "    chrome_binary_path = r\"C:\\Drivers\\chrome-win64\\chrome.exe\"\n",
    "    chrome_options = webdriver.ChromeOptions()\n",
    "    chrome_options.binary_location = chrome_binary_path\n",
    "    chrome_options.add_argument('executable_path=' + path_to_chromedriver)\n",
    "    #opening browser and link\n",
    "    browser = webdriver.Chrome(options=chrome_options)\n",
    "    browser.get(pl)\n",
    "    browser.maximize_window()\n",
    "    #finding all reviews\n",
    "    mydiv = browser.find_element(By.CLASS_NAME, '_3UAT2v._16PBlm')\n",
    "    parent = mydiv.find_element(By.XPATH, '..')\n",
    "    reviewlink = parent.get_attribute('href')\n",
    "    browser.get(reviewlink)#opened all reviews\n",
    "    \n",
    "    #scraping, sorting fake and small reviews into a df\n",
    "    reviews = []\n",
    "    i=0\n",
    "    while True:\n",
    "        try:\n",
    "            if i == 0:\n",
    "                review = browser.find_elements(By.CLASS_NAME,'t-ZTKy')\n",
    "                for r in review:\n",
    "                    rt = r.text\n",
    "                    if len(rt.split()) > 2:\n",
    "                        rt= re.sub(r'[^a-zA-Z0-9\\s\\.,!?]', '', rt)\n",
    "                        reviews.append(rt)\n",
    "                    nextreviewpage = browser.find_element(By.CLASS_NAME,\"_1LKTO3\")\n",
    "                nextreviewpage = nextreviewpage.get_attribute('href')\n",
    "                browser.get(nextreviewpage)\n",
    "                i+=1\n",
    "            \n",
    "            if browser.find_element(By.CLASS_NAME,\"_1LKTO3\"):\n",
    "                i+=1\n",
    "                review = browser.find_elements(By.CLASS_NAME,'t-ZTKy')\n",
    "                for r in review:\n",
    "                    rt = r.text\n",
    "                    if len(rt.split()) > 2:\n",
    "                        rt= re.sub(r'[^a-zA-Z0-9\\s\\.,!?]', '', rt)\n",
    "                        reviews.append(rt)\n",
    "                nextreviewpages=[]\n",
    "                nextreviewpage = browser.find_elements(By.CLASS_NAME,\"_1LKTO3\")\n",
    "                for review in nextreviewpage:\n",
    "                    review = review.get_attribute('href')\n",
    "                    nextreviewpages.append(review)\n",
    "                if len(nextreviewpages)>1:\n",
    "                    browser.get(nextreviewpages[1])\n",
    "                else:\n",
    "                    review = browser.find_elements(By.CLASS_NAME,'t-ZTKy')\n",
    "                    for r in review:\n",
    "                        rt = r.text\n",
    "                        if len(rt.split()) > 2:\n",
    "                            rt= re.sub(r'[^a-zA-Z0-9\\s\\.,!?]', '', rt)\n",
    "                            reviews.append(rt)\n",
    "                    print(len(reviews), \"Reviews extracted\")\n",
    "                    break\n",
    "        except (StaleElementReferenceException, ElementClickInterceptedException, TimeoutException, NoSuchElementException):\n",
    "            break\n",
    "    reviewsdf = pd.DataFrame(reviews, columns=[\"Reviews\"])\n",
    "    return reviewsdf"
   ]
  },
  {
   "cell_type": "code",
   "execution_count": 4,
   "id": "081dfdf5",
   "metadata": {},
   "outputs": [
    {
     "data": {
      "text/plain": [
       "\"def word_cloud(df):\\n    all_words = ' '.join([txt for txt in df])\\n    wordcloud = WordCloud(width = 500, height = 300, random_state = 21, max_font_size = 119).generate(all_words)\\n    plt.imshow(wordcloud, interpolation = 'bilinear')\\n    plt.axis('off')\\n    \\n    buffer = BytesIO()\\n    plt.savefig(buffer, format='png')\\n    buffer.seek(0)\\n    \\n    # Convert the plot to a base64-encoded image\\n    plot_base641 = base64.b64encode(buffer.read()).decode('utf-8')\\n    \\n    return plot_base641\""
      ]
     },
     "execution_count": 4,
     "metadata": {},
     "output_type": "execute_result"
    }
   ],
   "source": [
    "'''def word_cloud(df):\n",
    "    all_words = ' '.join([txt for txt in df])\n",
    "    wordcloud = WordCloud(width = 500, height = 300, random_state = 21, max_font_size = 119).generate(all_words)\n",
    "    plt.imshow(wordcloud, interpolation = 'bilinear')\n",
    "    plt.axis('off')\n",
    "    \n",
    "    buffer = BytesIO()\n",
    "    plt.savefig(buffer, format='png')\n",
    "    buffer.seek(0)\n",
    "    \n",
    "    # Convert the plot to a base64-encoded image\n",
    "    plot_base641 = base64.b64encode(buffer.read()).decode('utf-8')\n",
    "    \n",
    "    return plot_base641'''"
   ]
  },
  {
   "cell_type": "code",
   "execution_count": 5,
   "id": "ab49224a",
   "metadata": {},
   "outputs": [],
   "source": [
    "def polarity_scores_roberta(df):\n",
    "    MODEL = \"cardiffnlp/twitter-roberta-base-sentiment\"\n",
    "    tokenizer = AutoTokenizer.from_pretrained(MODEL)\n",
    "    model = TFAutoModelForSequenceClassification.from_pretrained(MODEL)\n",
    "\n",
    "    encoded_text = tokenizer(df, return_tensors='tf')\n",
    "    output = model(**encoded_text)\n",
    "    scores = output[0][0].numpy()\n",
    "    scores = softmax(scores)\n",
    "    scores_dict = {\n",
    "        'roberta_neg' : scores[0],\n",
    "        'roberta_neu' : scores[1],\n",
    "        'roberta_pos' : scores[2]\n",
    "    }\n",
    "    return scores_dict"
   ]
  },
  {
   "cell_type": "code",
   "execution_count": 6,
   "id": "8ea0a39d",
   "metadata": {},
   "outputs": [],
   "source": [
    "def robertaslow(df):\n",
    "    df = df.reset_index().rename(columns={'index':'ID'})\n",
    "    results = []\n",
    "    res = {}\n",
    "    for i in range(len(df)):\n",
    "        res[df['ID'][i]]= polarity_scores_roberta(df['Reviews'][i])\n",
    "    results = pd.DataFrame(res).T\n",
    "    results = results.reset_index().rename(columns={'index':'ID'})\n",
    "    results = results.merge(df, how='left')\n",
    "    return results"
   ]
  },
  {
   "cell_type": "code",
   "execution_count": 7,
   "id": "0381e33c",
   "metadata": {},
   "outputs": [],
   "source": [
    "def slowbutton(pl):\n",
    "    strl = str(pl)\n",
    "    df = data(strl)\n",
    "    word_cloud(df)\n",
    "    resultsf = robertaslow(df)\n",
    "    total_pos = resultsf['roberta_pos'].sum()\n",
    "    total_neg = resultsf['roberta_neg'].sum()\n",
    "    total_neu = resultsf['roberta_neu'].sum()\n",
    "\n",
    "    if total_pos > total_neg and total_pos > total_neu:\n",
    "        overall_sentiment = 'Positive'\n",
    "    elif total_neg > total_pos and total_neg > total_neu:\n",
    "        overall_sentiment = 'Negative'\n",
    "    else:\n",
    "        overall_sentiment = 'Neutral'\n",
    "\n",
    "    #print(f\"Overall sentiment for the product: {overall_sentiment}\")\n",
    "    \n",
    "    sentiments = ['Positive', 'Neutral', 'Negative']\n",
    "    scores = [total_pos, total_neu, total_neg]\n",
    "    \n",
    "    plt.bar(sentiments, scores, color=['green', 'gray', 'red'])\n",
    "    plt.xlabel('Sentiment')\n",
    "    plt.ylabel('Aggregated Score')\n",
    "    plt.title('Overall Sentiment Analysis for the Product')\n",
    "   \n",
    "    # Save the plot to a BytesIO buffer\n",
    "    buffer = BytesIO()\n",
    "    plt.savefig(buffer, format='png')\n",
    "    buffer.seek(0)\n",
    "    \n",
    "    # Convert the plot to a base64-encoded image\n",
    "    plot_base64 = base64.b64encode(buffer.read()).decode('utf-8')\n",
    "    \n",
    "    return overall_sentiment, plot_base64"
   ]
  },
  {
   "cell_type": "code",
   "execution_count": 8,
   "id": "ff813576",
   "metadata": {},
   "outputs": [],
   "source": [
    "def sentifast(df):\n",
    "    senti = pipeline(\"sentiment-analysis\")\n",
    "    df = df.reset_index().rename(columns={'index':'ID'})\n",
    "    ress = {}\n",
    "    results = []\n",
    "    for i in range(len(df)):\n",
    "        ress[df['ID'][i]]= senti(df['Reviews'][i])\n",
    "    flat_data = [item[0] for item in ress.values()]\n",
    "    results= pd.DataFrame(flat_data)\n",
    "    results = pd.DataFrame(results)\n",
    "    results = results.reset_index().rename(columns={'index':'ID'})\n",
    "    results = results.merge(df, how='right')\n",
    "    return results"
   ]
  },
  {
   "cell_type": "code",
   "execution_count": 9,
   "id": "4da32c73",
   "metadata": {},
   "outputs": [],
   "source": [
    "def fastbutton(pl):\n",
    "    strl = str(pl)\n",
    "    df = data(strl)\n",
    "    #word = word_cloud(df)\n",
    "    resultsf = sentifast(df)\n",
    "    total_pos = 0\n",
    "    total_neg = 0\n",
    "    for i in range(len(resultsf)):\n",
    "        if resultsf['label'][i] == \"POSITIVE\":\n",
    "            total_pos += resultsf['score'][i]\n",
    "        else:\n",
    "            total_neg += resultsf['score'][i]\n",
    "    if total_neg > total_pos:\n",
    "        overall_sentiment = 'Negative'\n",
    "    else:\n",
    "        overall_sentiment = 'Positive'\n",
    "    #print(f\"Overall sentiment for the product: {overall_sentiment}\")\n",
    "    sentiments = ['Positive', 'Negative']\n",
    "    scores = [total_pos, total_neg]\n",
    "    plt.bar(sentiments, scores, color=['green', 'red'])\n",
    "    plt.xlabel('Sentiment')\n",
    "    plt.ylabel('Aggregated Score')\n",
    "    plt.title('Overall Sentiment Analysis for the Product')\n",
    "\n",
    "    # Save the plot to a BytesIO buffer\n",
    "    buffer = BytesIO()\n",
    "    plt.savefig(buffer, format='png')\n",
    "    buffer.seek(0)\n",
    "    \n",
    "    # Convert the plot to a base64-encoded image\n",
    "    plot_base64 = base64.b64encode(buffer.read()).decode('utf-8')\n",
    "    \n",
    "    return overall_sentiment, plot_base64"
   ]
  },
  {
   "cell_type": "code",
   "execution_count": 10,
   "id": "c2be5b7c",
   "metadata": {},
   "outputs": [
    {
     "name": "stdout",
     "output_type": "stream",
     "text": [
      "203 Reviews extracted\n"
     ]
    },
    {
     "name": "stderr",
     "output_type": "stream",
     "text": [
      "No model was supplied, defaulted to distilbert-base-uncased-finetuned-sst-2-english and revision af0f99b (https://huggingface.co/distilbert-base-uncased-finetuned-sst-2-english).\n",
      "Using a pipeline without specifying a model name and revision in production is not recommended.\n",
      "WARNING[XFORMERS]: xFormers can't load C++/CUDA extensions. xFormers was built for:\n",
      "    PyTorch 2.0.1+cu118 with CUDA 1108 (you have 2.0.1)\n",
      "    Python  3.11.4 (you have 3.11.4)\n",
      "  Please reinstall xformers (see https://github.com/facebookresearch/xformers#installing-xformers)\n",
      "  Memory-efficient attention, SwiGLU, sparse and more won't be available.\n",
      "  Set XFORMERS_MORE_DETAILS=1 for more details\n"
     ]
    },
    {
     "ename": "NameError",
     "evalue": "name 'word' is not defined",
     "output_type": "error",
     "traceback": [
      "\u001b[1;31m---------------------------------------------------------------------------\u001b[0m",
      "\u001b[1;31mNameError\u001b[0m                                 Traceback (most recent call last)",
      "Cell \u001b[1;32mIn[10], line 1\u001b[0m\n\u001b[1;32m----> 1\u001b[0m fastbutton(\u001b[38;5;124m'\u001b[39m\u001b[38;5;124mhttps://www.flipkart.com/lenovo-23-8-inch-full-hd-va-panel-3-side-near-edgeless-tuv-eye-care-monitor-d24-20/p/itm8f8c6bfc86fb5?pid=MONFV5HRNF4QFVG4&lid=LSTMONFV5HRNF4QFVG4ATFEMN&marketplace=FLIPKART&store=6bo\u001b[39m\u001b[38;5;132;01m%2F\u001b[39;00m\u001b[38;5;124mg0i\u001b[39m\u001b[38;5;132;01m%2F\u001b[39;00m\u001b[38;5;124m9no&srno=b_1_5&otracker=browse&otracker1=hp_rich_navigation_PINNED_neo\u001b[39m\u001b[38;5;132;01m%2F\u001b[39;00m\u001b[38;5;124mmerchandising_NA_NAV_EXPANDABLE_navigationCard_cc_3_L2_view-all&fm=organic&iid=f6810f2e-df99-4107-9b26-8c4b59a9a694.MONFV5HRNF4QFVG4.SEARCH&ppt=hp&ppn=homepage&ssid=qvynpv4jpc0000001693079777287\u001b[39m\u001b[38;5;124m'\u001b[39m)\n",
      "Cell \u001b[1;32mIn[9], line 33\u001b[0m, in \u001b[0;36mfastbutton\u001b[1;34m(pl)\u001b[0m\n\u001b[0;32m     30\u001b[0m \u001b[38;5;66;03m# Convert the plot to a base64-encoded image\u001b[39;00m\n\u001b[0;32m     31\u001b[0m plot_base64 \u001b[38;5;241m=\u001b[39m base64\u001b[38;5;241m.\u001b[39mb64encode(buffer\u001b[38;5;241m.\u001b[39mread())\u001b[38;5;241m.\u001b[39mdecode(\u001b[38;5;124m'\u001b[39m\u001b[38;5;124mutf-8\u001b[39m\u001b[38;5;124m'\u001b[39m)\n\u001b[1;32m---> 33\u001b[0m \u001b[38;5;28;01mreturn\u001b[39;00m word, overall_sentiment, plot_base64\n",
      "\u001b[1;31mNameError\u001b[0m: name 'word' is not defined"
     ]
    },
    {
     "data": {
      "image/png": "[encoded data removed]",
      "text/plain": [
       "<Figure size 640x480 with 1 Axes>"
      ]
     },
     "metadata": {},
     "output_type": "display_data"
    }
   ],
   "source": [
    "fastbutton('https://www.flipkart.com/lenovo-23-8-inch-full-hd-va-panel-3-side-near-edgeless-tuv-eye-care-monitor-d24-20/p/itm8f8c6bfc86fb5?pid=MONFV5HRNF4QFVG4&lid=LSTMONFV5HRNF4QFVG4ATFEMN&marketplace=FLIPKART&store=6bo%2Fg0i%2F9no&srno=b_1_5&otracker=browse&otracker1=hp_rich_navigation_PINNED_neo%2Fmerchandising_NA_NAV_EXPANDABLE_navigationCard_cc_3_L2_view-all&fm=organic&iid=f6810f2e-df99-4107-9b26-8c4b59a9a694.MONFV5HRNF4QFVG4.SEARCH&ppt=hp&ppn=homepage&ssid=qvynpv4jpc0000001693079777287')"
   ]
  },
  {
   "cell_type": "code",
   "execution_count": null,
   "id": "ed8a3673",
   "metadata": {},
   "outputs": [],
   "source": []
  },
  {
   "cell_type": "code",
   "execution_count": null,
   "id": "6b89d24f",
   "metadata": {},
   "outputs": [],
   "source": []
  }
 ],
 "metadata": {
  "kernelspec": {
   "display_name": "Python 3 (ipykernel)",
   "language": "python",
   "name": "python3"
  },
  "language_info": {
   "codemirror_mode": {
    "name": "ipython",
    "version": 3
   },
   "file_extension": ".py",
   "mimetype": "text/x-python",
   "name": "python",
   "nbconvert_exporter": "python",
   "pygments_lexer": "ipython3",
   "version": "3.11.4"
  }
 },
 "nbformat": 4,
 "nbformat_minor": 5
}
