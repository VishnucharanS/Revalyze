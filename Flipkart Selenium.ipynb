{
 "cells": [
  {
   "cell_type": "code",
   "execution_count": 2,
   "id": "db25151f",
   "metadata": {},
   "outputs": [],
   "source": [
    "from selenium import webdriver\n",
    "from time import sleep\n",
    "import time\n",
    "from selenium.webdriver.common.by import By \n",
    "from selenium.webdriver.support.ui import WebDriverWait\n",
    "from selenium.webdriver.support import expected_conditions as EC\n",
    "from selenium.common.exceptions import StaleElementReferenceException, TimeoutException, NoSuchElementException, ElementClickInterceptedException\n",
    "from wordcloud import WordCloud\n",
    "import re\n",
    "import matplotlib.pyplot as plt\n",
    "from transformers import pipeline"
   ]
  },
  {
   "cell_type": "code",
   "execution_count": 3,
   "id": "5302794a",
   "metadata": {},
   "outputs": [],
   "source": [
    "path_to_chromedriver = r\"C:\\Path\\To\\chromedriver.exe\"\n",
    "chrome_binary_path = r\"C:\\Drivers\\chrome-win64\\chrome.exe\"\n",
    "chrome_options = webdriver.ChromeOptions()\n",
    "chrome_options.binary_location = chrome_binary_path\n",
    "chrome_options.add_argument('executable_path=' + path_to_chromedriver)\n",
    "browser = webdriver.Chrome(options=chrome_options)\n",
    "browser.get('https://www.flipkart.com/lenovo-23-8-inch-full-hd-va-panel-3-side-near-edgeless-tuv-eye-care-monitor-d24-20/p/itm8f8c6bfc86fb5?pid=MONFV5HRNF4QFVG4&lid=LSTMONFV5HRNF4QFVG4ATFEMN&marketplace=FLIPKART&store=6bo%2Fg0i%2F9no&srno=b_1_5&otracker=browse&otracker1=hp_rich_navigation_PINNED_neo%2Fmerchandising_NA_NAV_EXPANDABLE_navigationCard_cc_3_L2_view-all&fm=organic&iid=f6810f2e-df99-4107-9b26-8c4b59a9a694.MONFV5HRNF4QFVG4.SEARCH&ppt=hp&ppn=homepage&ssid=qvynpv4jpc0000001693079777287')\n",
    "browser.maximize_window()"
   ]
  },
  {
   "cell_type": "code",
   "execution_count": 4,
   "id": "77037467",
   "metadata": {},
   "outputs": [],
   "source": [
    "mydiv = browser.find_element(By.CLASS_NAME, '_3UAT2v._16PBlm')\n",
    "parent = mydiv.find_element(By.XPATH, '..')\n",
    "reviewlink = parent.get_attribute('href')\n",
    "browser.get(reviewlink)"
   ]
  },
  {
   "cell_type": "code",
   "execution_count": 5,
   "id": "f3c27edc",
   "metadata": {},
   "outputs": [
    {
     "name": "stdout",
     "output_type": "stream",
     "text": [
      "10\n",
      "20\n",
      "30\n",
      "40\n",
      "50\n",
      "60\n",
      "70\n",
      "80\n",
      "90\n",
      "100\n",
      "110\n",
      "120\n",
      "130\n",
      "140\n",
      "150\n",
      "160\n",
      "170\n",
      "180\n",
      "190\n",
      "200\n",
      "210\n",
      "220\n",
      "230\n",
      "240\n",
      "250\n",
      "260\n",
      "270\n",
      "280\n",
      "else\n",
      "['Slim, thin bazel and good colour contrast. Size also good for all purpose. I like it.', 'Good monitor for this price range.\\n\\nIt comes with,\\n1. HDMI port\\n2. VGA port\\n3. Audi line out (3.5 mm jack)\\n\\nGot this item within stipulated delivery dates.', \"Great picture Quality!!! satisfying all my needs like in work, entertainment and gaming !!👍\\nPros:\\n1.Quality of display colours, PPi everything is great for it's price\\n2.Matt finish display is great and 75Hz is more than enough for all kind of tasks! If ur not a hard core gamer!!\\n\\nCons:\\n1.only one HDMI port I wish there would be 2 HDMI ports in future models\", 'Very good product\\nMust buy', 'Low price, gud quality', 'Decent products in this range ...it upto 75 Harz best va pannel good monitor vga hbmi port also available', 'Extremely satisfied been using for 3 weeks', 'At first i got a damaged product but flipkart was fast in arranging a replacement.\\nThe replacement effort really increased my faith in online purchases.\\nThank you flipkart.\\n\\nMonitor is good at this price.\\nYou can see some pixelation of text but images look fine.\\nIf you are looking for a big screen at a low price and ready to compromise a little on text quality go for it.', 'Nice product!!\\nSmooth working!!', \"Don't think too much just buy it..\", 'After all the research I found this product to be best and pocket friendly in the segment. I bought this for 9899/-. The screen quality is awesome. If you are searching for great picture quality in budget this product is for you.', 'Classy Monitor. Best In budget. Worthy for every penny spent.', 'Value of money .. great product...tnks Flipkart ..fast delivery', 'I like this product', 'Best Monitor for work and superb clarity.', 'Look wise good, Slim, comfortable size\\n\\nBut this model has no speaker, so if you connect hdmi from laptop, the sound will go away on laptop. You need to change settings on your laptop to use its own speakers.\\n\\nOtherwise you can connect additional speaker on monitor as well.', 'Very good product. Using for last one year WFH and study. Daily using for about 10 hours.', 'Good for the price. Picture quality is good with good black levels. Just opened it today. Will update after a month.', 'Love with this monitor ❤️', \"Doesn't support 75 Hz as they promised.\", 'Just 10 days display shows lining very disappointed.', 'One of the best product. I am happy with the purchase.', 'Very Good Product', 'Very Good quality product. Value for money', 'I am not satisfied with product its resulation is so poor and pictures quality is not good', 'Screen clarity is bad, go for ips panel from lg , this is locally available in 10,000 . My bad luck i bought it from online unnecessarily.', '27inch monitor for 9500, nothing else better than this in 10k segment. Pixel density is bit compromised, no issues found 5 moths of use.', 'Value for money\\nBefore purchase so some research on type of LED monitors\\nThere are three types..\\nThis is va type that suited my need', 'Worst moniter dont buy this', 'Value of money', 'Dont buy this product very waste', 'After 7 days,white line showing in black screen', 'Poor quality to use as a monitor. Texts blurred, not comfortable to eyes at all.', 'Monitor received has 2 spots in the screen, which are not normally visible but can be seen in different background colours.\\nScreen flickers or blackouts during the day hwike other monitors work perfectly.', 'Very poor display quality of such high end product...no sharpness in display\\nAlso it seems that the product received has already been rejected by 3-4 customers.\\nFlipkart should do business with fair policies', 'Not recommended\\nColors are not great i.e black look like grey\\nAlways buy 2k or more resolution for 27 inch monitor', 'Worth for the money.', \"According to price range it's very amazing\", 'Using as an external screen for my laptop for past one month. I have no complaints after use.Attaching the base to the monitor can be a little tricky.', 'Good Monitor, power consumption is 14W only, good for rural areas where user need to mostly depends on battery backup. Build quality is very good.\\nThank you seller for good and safe packing.', 'Nice product. Not expected', 'The monitor is pretty cost effective, but the color quality is very poor. If you do no have a strict budget please go for a different model or a different brand. My 5 year old AOC has and 6 year old LG has much better color quality than this. I do not have any use of this monitor. It gives you faded image.', 'Super value for money', 'Pixel per inch is very less so quality is not so good.', \"I bought this at Rs.6300 including Bank offers..\\nit's one of the best 24incht FHD monitor in this price range.\\nSlim bezzals , front side buttons and colour accuracy is great\", 'The screen display is amazing; worth the price', 'The best moniter i ever had', 'Great purchase. Got the 24-inch for 7K and its really worth the price.', 'Low contrast display contrast very low colour corection not suitable forediting', 'Picture quality not clear', 'Good one. Worth the money', '100% Recommended for Research Scholar who are writing their thesis and article.', 'Worth for the price. I got it during sale and it was 10k. For this price it is worth. It is not great for watching movie. If your buying it for working purpose then it serves the purpose.', 'Good one. Full hd aanenkilum athrakk pora', 'Awesome LED. Picture quality is really really fantastic 😍😘😍😘.\\nBuy it', 'Excellent product totally value for money', 'Best product in this price', 'Very good product', 'Damn good for programmers!', 'Inspite off VA panel, the colour accuracy is great.\\nIts really very bright.\\nAnd most importantly, a 27inch big screen at 10k.\\n\\nAfter 3months I will review again', 'Excellent and Worth Product!! Recommenced.', 'Extremely happy with the purchase.', 'This monitor is good for daily use. Brigthness is enough to do daily work.', 'Look is good. But display quality is not perfect.', 'Packing was good, nice product under this price segment', 'Nice product. Using this monitor for office work as well as connected to FireStick TV, all are perfectly working fine.\\n\\nAnti-glare screen helps in watching movies/doing work for longer period of time.\\n\\nJust when you connect with aux, it gives hissing sound. Can be rectified using stereo audio splitter. I am using this with Samsung soundbar.\\n\\nOverall happy with the product and its performance.', \"Very Bad picture quality, I buy 4 screens ,but not return & when i contacted flipkart, it gives answer contact to your seller & when contact seller , he/she says contact on flipkart, so my issue not resolved.No one response . Low quality product, Don't buy...\", 'Allows opend sundrict hd . monitor is super thankyou Flipkart', \"It doesn't produce any sound output... Dont buy if you are going to connect audio to it.\", \"It's awesome I'm using as tv it's good satisfied\", \"Mind blowing purchase. I like it's design\", \"It's safely delivered and a good product.\", 'Great one\\n..go for IT', \"Screen is very fady and doesn't show the true colors and also the blue light filter is very pathetic, there is no option to decrease or increase it.\", 'Very good monitor. I love it.', \"After use 20day it's nice under this price\", 'Best monitor at this price. This is a VA panel and the contrast ratio is excellent. Better than IPS panel. Most of the IPS panels have screen bleeding issue. Comfortable for eyes even after long use.. without second thought go for it.', 'Very good quality', 'Review after 10 day use. Good product. It took a couple of hours to get used to its display because I had an HP monitor but every thing was cool from the next day. Happy that I bought this screen', 'Good\\nValue for money', 'Gaming monitor 👌', 'Good and quality product so far using since 3 months', \"This monitor is one of the best monitors in this price, I'm totally satisfied by the product. Love ❤️❤️❤️ the design.... Go for this\", 'Good product must buy', 'Good for price. But pic quality not like ips panel', 'Good quality product received 💯❤️❤️', 'Not satisfied with product', 'Good quality in this prize', 'Used it for more than 6 months and it looks good so far.', 'Not working in 😞 product', 'Got this for 7700 . Have been using it for 9 months for doing office work... big enough for programming job...works just fine', 'all is well', 'Nice quality with price comparison\\nThanks Flipkart', 'Very good product', 'very bad product display not working', 'Budget Monitor. Good for basic office work, coding and media consumption. Would not recommend it to graphic designers.', 'No noticeable pixelation with 1080 p resolution. Only thing is bit heavy product, else everything is ok compared to price.', 'Good product , worth every penny', 'Monitor display is pretty good and crisp, However color fades a bit with 120-130 degree view as it is VA panel which is fine as we use it as monitor.\\nFrameless design 3 sides looks cool\\n\\nVGA cable is not provided as HDMI cable in the box can be used to connect.\\n\\nStand base provided is not designed properly to balance due to light weight plastic used as material with smaller base diameter.', 'Works really well!', 'Very bad do not by', 'Is the best quality display', \"Image quality is poor. Waste of money. Don't buy this product..\", \"Pls don't buy any one\", 'Wonderfully performing.\\nAwasome quality', \"We are really happy for this product, provide by Flipkart. I never expected it come and in such a nice packaging, thank you Flipkart for your wonderful product it's working nice.\", 'Delivery 5/5. Good packaging.\\nPicture- bit brighter because of the VA panel.\\nSound- got 3.5 audio out is awesome.', 'Nice product at an affordable rate', 'Good monitor but looks like not Full HD', 'I like the product. Meets the requirements', 'Nice product may prefer this monitor to buy all them for great view upon', 'Very good screen beautiful and worth it!', 'Poor screen quality, No return option available, replacement not accepted by seller, Stuck with product, not recommended to buy any electronic item from flipkart.', 'Best value purchase. Good peoduct for the work from home needs', 'Pros:\\nAngle adjustment option is there\\nConnectivity is quick\\nClarity is decent, 1080P Clarity is good\\nLightweight\\n3 Years Warranty\\nBought for 6800 Very reasonable Price during the sale.\\n\\n\\nCons:\\nThe height adjustment option is not there\\nAudio gets routed via HDMI and needs to change every time when connecting\\nEven if we play 4K it will still look like 1080P\\nDue to the lightweight, it will shake if not placed on a sturdy table\\n\\n\\nOverall a decent 24-inch Monitor for this price, If your budget is...\\nREAD MORE', 'Really awesome worth for money', 'Resolution issue. Tilt one stand was required', 'Nice product , I am using it for work from home purpose .', \"It is a good monitor go for it you won't regret it\", 'It was good', 'worth the Price, Not best, not worst. Overall Value for Money', 'Nice product. Go with blind', 'product is very good', 'Good monitor for routine use', 'Worst product i have use', 'Wow. Very nice 👌', 'Nice product 👍👍', 'Good at price', 'Display is awesome... Very good', 'Happy with the product. Would have been good if it has surrounding brightness adjustment', 'best in thuis price....', 'Good for daily usage, but the color combination is not so good.', 'Lenovo is best work working. Quility of Product is Good. Price also good. Thanku Lenovo', 'Excellent monitor. I would suggest people working from home to buy this. Ideal size. Good and clear display. Easy on eyes.', 'Nice 👍 product', 'excellent monitor for all round use! gentle on eyes and works seamlessly with Mac.', 'Super product and good delivery by Flipkart. Thank you.', \"It's a fantastic product, Go for without any boubt.\", 'Very nice quality', 'Monitor was good better than other monitor in this price range go for it.\\nWrite this review after using 3week', 'Quality is good', 'Loose power socket\\nDisconnecting every few minutes', \"Just received the monitor. Works well but, you need to put two screws to mount the monitor on a stand . The screws are too small they won't fit.\", 'Superb Monitor at almost no price', 'Great product. Quite big screen. Lenovo at its best.', 'This product is very beautiful', 'good monitor in low cost.\\nbut displaying thicker colors than Originals...\\nhope this isnot suitable for who works more time.... WFH, Gamers...', 'Best monitor brand build quality i am happy', \"Very good looking also picture quality good\\nIt's most cheapest price\", 'Great monitor in these price segment it more than good ...go for it ...', 'Smart working photo very well', 'Best.. Best..Best.. My children are mostly using it.. you cannot buy such a great product in this price.. very good display.. highly satisfied..', 'monitor have full hd no colour distortiion', 'Monitor design is nice. Installation was simple with all the tools provided in the box. Only downside is the poor resolution.', \"Seriously a cracking budget monitor 27 inch ..... It's really good with accurate colors and 75 Hz refresh rate .... Best for General use and editing .\", 'Serves the purpose with the connectivity with my Laptop to give hassle free work environment. Video quality is good and pretty much satisfied with the connectivity options given.\\nSo far no complaints with this product.', 'Product quality is good and justify its price. Looks good, and screen quality is also decent.\\n\\nOnly negative thing is for this screen size the screen ration is a mismatch.', 'Excellent monitor.. good viewing angle.. lowest price..', 'I m very much satisfied', \"good but it's not suitable for computers as it's big\\n\\nfor work from home use 24\", 'Worth for money', \"It's super monitor. Working flawlessly since few months. I use for Work and online classes and I would say its just amazing!!!\", 'Good size good looking', 'Go for it', 'Value for money', 'No much brightness', 'Best in this range fully hd', \"It's a VA panel monitor so u can't expect the colour reproduction u get in an IPS panel monitor. But for the price it's worth it. Has vga n hdmi. Build quality is good. Durable too. Lightweight. Go for it if u don't mind the va panel.\", 'Good best quality', 'Display is awesome 👌', 'Best deal but some issues with emi but in the end everything will be fine', 'Best monitor this price range', 'Best thing to buy a trusted brand lenovo', 'Outstanding display in this price range and the size of display is also large comparison to other moniter in this price range.', 'Good in this price', 'Good screen. The only drawback is that it does not have a built in speaker.', 'Cheapest 27\" you would get with more than decent picture quality. Great second screen for WFH setup.', 'Fantastic Monitor. Perfect pricing and terrific performance for WFH. Grab it before price increase happens. 10 on 10.', 'Timely delivered and the behavior of the delivery boy was very very good....... I am fully satisfied. Thanks flipkart.', \"For the price you pay, I think it's the best option available\", 'Screen size is good with cheap price. Much better for long time working on screen. Much recommended for programmers', 'Awesome product, value for money', 'Quality product, works fine', 'Cheap and best 27\" monitor. using it for more than 2 months and no complaints.', 'A budget HD monitor from Lenovo. Color calibration might required as in my case it was noticeably dull near the Benq monitor. Using it alongside the Benq and looks good after calibration.', 'Monitor stand does not extend in height, other than that, works great', 'Excellent Product\\nValue for Money', 'Great Monitor. Just received 3 days ago.\\nOnly thing missing is internal speakers.\\nBarring which, a really nice product.', 'Very good for a dual monitor', 'value for money..worth buying', 'Very good Monitor.', 'Great monitor with a great price. Highly recommended.', \"Monitor looks good. Good color. But some dark spots is already there. But that's ok for me.\", \"This is my honest review\\nDon't hesitate in buying this go for it\\nOnly con is that there no speakers but overall the display is vibrant no issues\\n\\nGood for the price 🙂\", 'Great product by lenovo in this price, loved it..', 'Great choice at this prize point .. very nice.', 'Amazing service got delivered 1day in advance.', 'Great monitor with a great price. Highly recommended.', \"Monitor looks good. Good color. But some dark spots is already there. But that's ok for me.\", \"This is my honest review\\nDon't hesitate in buying this go for it\\nOnly con is that there no speakers but overall the display is vibrant no issues\\n\\nGood for the price 🙂\", 'Great product by lenovo in this price, loved it..', 'Great choice at this prize point .. very nice.', 'Amazing service got delivered 1day in advance.']\n"
     ]
    }
   ],
   "source": [
    "reviews = []\n",
    "i=0\n",
    "while True:\n",
    "    try:\n",
    "        if i == 0:\n",
    "            review = browser.find_elements(By.CLASS_NAME,'t-ZTKy')\n",
    "            for r in review:\n",
    "                rt = r.text\n",
    "                if len(rt.split()) > 2:\n",
    "                    reviews.append(rt)\n",
    "                nextreviewpage = browser.find_element(By.CLASS_NAME,\"_1LKTO3\")\n",
    "            nextreviewpage = nextreviewpage.get_attribute('href')\n",
    "            browser.get(nextreviewpage)\n",
    "            i+=1\n",
    "            \n",
    "        if browser.find_element(By.CLASS_NAME,\"_1LKTO3\"):\n",
    "            print(i*10)\n",
    "            i+=1\n",
    "            review = browser.find_elements(By.CLASS_NAME,'t-ZTKy')\n",
    "            for r in review:\n",
    "                rt = r.text\n",
    "                if len(rt.split()) > 2:\n",
    "                        reviews.append(rt)\n",
    "            nextreviewpages=[]\n",
    "            nextreviewpage = browser.find_elements(By.CLASS_NAME,\"_1LKTO3\")\n",
    "            for review in nextreviewpage:\n",
    "                review = review.get_attribute('href')\n",
    "                nextreviewpages.append(review)\n",
    "            if len(nextreviewpages)>1:\n",
    "                browser.get(nextreviewpages[1])\n",
    "            else:\n",
    "                print('else')\n",
    "                review = browser.find_elements(By.CLASS_NAME,'t-ZTKy')\n",
    "                for r in review:\n",
    "                    rt = r.text\n",
    "                    if len(rt.split()) > 2:\n",
    "                        reviews.append(rt)\n",
    "                print(reviews)\n",
    "                break\n",
    "    except (StaleElementReferenceException, ElementClickInterceptedException, TimeoutException, NoSuchElementException):\n",
    "        print(reviews)\n",
    "        break"
   ]
  },
  {
   "cell_type": "code",
   "execution_count": 6,
   "id": "8aafa98b",
   "metadata": {},
   "outputs": [
    {
     "data": {
      "text/plain": [
       "203"
      ]
     },
     "execution_count": 6,
     "metadata": {},
     "output_type": "execute_result"
    }
   ],
   "source": [
    "len(reviews)"
   ]
  },
  {
   "cell_type": "code",
   "execution_count": 7,
   "id": "94473cd7",
   "metadata": {},
   "outputs": [
    {
     "data": {
      "text/plain": [
       "\"from openpyxl import Workbook\\n\\nworkbook = Workbook()\\nsheet = workbook.active\\n\\nsheet.cell(row=1, column=1, value='Reviews')\\n\\nfor i, review in enumerate(reviews, start=1):\\n    sheet.cell(row=i+1, column=1, value=review)\\n\\nworkbook.save('reviewsforpractice.xlsx')\""
      ]
     },
     "execution_count": 7,
     "metadata": {},
     "output_type": "execute_result"
    }
   ],
   "source": [
    "'''from openpyxl import Workbook\n",
    "\n",
    "workbook = Workbook()\n",
    "sheet = workbook.active\n",
    "\n",
    "sheet.cell(row=1, column=1, value='Reviews')\n",
    "\n",
    "for i, review in enumerate(reviews, start=1):\n",
    "    sheet.cell(row=i+1, column=1, value=review)\n",
    "\n",
    "workbook.save('reviewsforpractice.xlsx')'''"
   ]
  },
  {
   "cell_type": "code",
   "execution_count": 8,
   "id": "ca22559e",
   "metadata": {},
   "outputs": [
    {
     "data": {
      "text/plain": [
       "\"for rt in reviews:\\n    rt= re.sub(r'[^a-zA-Z0-9\\\\s\\\\.,!?]', '', rt)\\nall_words = ' '.join([txt for txt in reviews])\\nwordcloud = WordCloud(width = 500, height = 300, random_state = 21, max_font_size = 119).generate(all_words)\\nplt.imshow(wordcloud, interpolation = 'bilinear')\\nplt.axis('off')\\nplt.show()\""
      ]
     },
     "execution_count": 8,
     "metadata": {},
     "output_type": "execute_result"
    }
   ],
   "source": [
    "'''for rt in reviews:\n",
    "    rt= re.sub(r'[^a-zA-Z0-9\\s\\.,!?]', '', rt)\n",
    "all_words = ' '.join([txt for txt in reviews])\n",
    "wordcloud = WordCloud(width = 500, height = 300, random_state = 21, max_font_size = 119).generate(all_words)\n",
    "plt.imshow(wordcloud, interpolation = 'bilinear')\n",
    "plt.axis('off')\n",
    "plt.show()'''"
   ]
  },
  {
   "cell_type": "code",
   "execution_count": 9,
   "id": "cd247f35",
   "metadata": {},
   "outputs": [],
   "source": [
    "all_words = ''.join([txt for txt in reviews])\n",
    "len(all_words)\n",
    "\n",
    "all_words = all_words.replace(\"\\n\", \" \")"
   ]
  },
  {
   "cell_type": "code",
   "execution_count": 11,
   "id": "99de7256",
   "metadata": {},
   "outputs": [
    {
     "data": {
      "text/plain": [
       "['A user wrote, \"I bought this for 9,899/-. The screen quality is awesome. If you are searching for great picture quality in budget this product is for you.\" Another user wrote, \"I bought this at 6300. Screen has already been rejected by 3-4 customers. Always buy 2k or more resolution for the money.\"']"
      ]
     },
     "execution_count": 11,
     "metadata": {},
     "output_type": "execute_result"
    }
   ],
   "source": [
    "import torch\n",
    "from transformers import PegasusForConditionalGeneration, PegasusTokenizer\n",
    "model_name = 'tuner007/pegasus_summarizer'\n",
    "torch_device = 'cuda' if torch.cuda.is_available() else 'cpu'\n",
    "tokenizer = PegasusTokenizer.from_pretrained(model_name)\n",
    "model = PegasusForConditionalGeneration.from_pretrained(model_name).to(torch_device)\n",
    "\n",
    "def get_response(input_text):\n",
    "  batch = tokenizer([input_text],truncation=True,padding='longest',max_length=1024, return_tensors=\"pt\").to(torch_device)\n",
    "  gen_out = model.generate(**batch,max_length= 100,num_beams=5, num_return_sequences=1, temperature=1.5)\n",
    "  output_text = tokenizer.batch_decode(gen_out, skip_special_tokens=True)\n",
    "  return output_text\n",
    "get_response(all_words)"
   ]
  },
  {
   "cell_type": "code",
   "execution_count": 14,
   "id": "949395d6",
   "metadata": {},
   "outputs": [],
   "source": [
    "for i in range (len(reviews)):\n",
    "    if \"I bought this for 9,899/-. The screen quality is awesome. If you are searching for great picture quality in budget this product is for you.\" in reviews:\n",
    "        print(i)\n",
    "    i+=1"
   ]
  },
  {
   "cell_type": "code",
   "execution_count": null,
   "id": "e112ab2d",
   "metadata": {},
   "outputs": [],
   "source": []
  }
 ],
 "metadata": {
  "kernelspec": {
   "display_name": "Python 3 (ipykernel)",
   "language": "python",
   "name": "python3"
  },
  "language_info": {
   "codemirror_mode": {
    "name": "ipython",
    "version": 3
   },
   "file_extension": ".py",
   "mimetype": "text/x-python",
   "name": "python",
   "nbconvert_exporter": "python",
   "pygments_lexer": "ipython3",
   "version": "3.11.4"
  }
 },
 "nbformat": 4,
 "nbformat_minor": 5
}
