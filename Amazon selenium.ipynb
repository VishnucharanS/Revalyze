{
 "cells": [
  {
   "cell_type": "code",
   "execution_count": 1,
   "id": "3f231fca",
   "metadata": {},
   "outputs": [],
   "source": [
    "from selenium import webdriver\n",
    "from time import sleep\n",
    "import time\n",
    "from selenium.webdriver.common.by import By \n",
    "from selenium.webdriver.support.ui import WebDriverWait\n",
    "from selenium.webdriver.support import expected_conditions as EC\n",
    "from selenium.common.exceptions import StaleElementReferenceException, TimeoutException, NoSuchElementException, ElementClickInterceptedException"
   ]
  },
  {
   "cell_type": "code",
   "execution_count": 2,
   "id": "0399ea77",
   "metadata": {},
   "outputs": [],
   "source": [
    "path_to_chromedriver = r\"C:\\Path\\To\\chromedriver.exe\"\n",
    "chrome_binary_path = r\"C:\\Drivers\\chrome-win64\\chrome.exe\"\n",
    "chrome_options = webdriver.ChromeOptions()\n",
    "chrome_options.binary_location = chrome_binary_path\n",
    "chrome_options.add_argument('executable_path=' + path_to_chromedriver)\n",
    "browser = webdriver.Chrome(options=chrome_options)\n",
    "browser.get('https://amzn.eu/d/0lqEHgl')\n"
   ]
  },
  {
   "cell_type": "code",
   "execution_count": 3,
   "id": "6b5c8ecc",
   "metadata": {},
   "outputs": [],
   "source": [
    "\n",
    "seemorebutton = browser.find_element(By.CLASS_NAME, 'a-link-emphasis.a-text-bold')\n",
    "\n",
    "seemorebutton.click()\n"
   ]
  },
  {
   "cell_type": "code",
   "execution_count": 4,
   "id": "32770406",
   "metadata": {},
   "outputs": [
    {
     "name": "stdout",
     "output_type": "stream",
     "text": [
      "[\"It's the most dust free product I have ever seen. Barely any dust but odour control is a major issue. That's the reason I have given 3 ⭐ rating.\\nClumping is good and if you see reviews saying it gets stuck at the bottom, that's because the tray is not filled above the half way mark. If you put a thin layer of bentonite, it will stick to the bottom and will be hard to scrape off. Please don't do that to your furry friends. Fill more than half of the tray and clean it at least twice in a day, preferably immediately after they finish their business. Thank you!\", \"But disappointed because of the dust. Since it's not scented litter, the bad smell spreads easily across.\\nAbsorption is quick and good. Those who are looking to buy budgeted cat litter, just go for it.\", 'I was happy to see amazon basics cat litter. However, the experience turned out to be below average.\\nPros:\\nAffordable (679 for 10 KG).\\nLooks clean and less powder.\\nCons:\\nClumping is average.\\nCat pee settles to the bottom of the litter box and scooping becomes difficult even though the litter box is filled properly.', 'Its not worthe the money if it finishes so soon. Also there is no odor control. It clumps REALLY very well, both pee and poo but pee sticks to the bottom and we have to scrape it hard. Im putting around 3inches.', 'There is no odor control and no smell for cat litter. Otherwise its good product', 'I had been using pet pattern litter for a while but my kitten always seemed to have some litter or poop stuck. This litter actually absorbs faster and my kittys paws are always clean. One problem I faced was with the delivery getting late, otherwise rest was satisfactory', \"Litter is good quality, and works accordingly, but it's without scent, but purpose is solved.\", 'Dries fast, no dust, and, no odour. Though a bit pricey than others but worth the value.', 'I would give it four stars as it clumps well and is dust free but would cut one star as it is not scented. After few uses it stinks. The product needs to be scented for better performance.', \"I have tried many clumping litters but this was the worst of all. Clumping is poor and worst of all the urine clump sticks hard to the bottom of the tray. While trying to scoop it forcefully it crumbles and ruins the purpose. Takes painful long time to clean. Works well for poop though although I don't know to educate my cats to use it for that alone. Odour control is good and it's among the cheapest available. But I definitely don't recommend this\", \"This a decent litter when it comes to budget. It has pros and cons\\n\\nPros:\\n1. It's dust free like itc claims to be.\\n2. Controls odour.\\n\\nCons:\\n1. Clumping takes a lot of time.\\n2. The waste sticks to the bottom of the tray. I have added the litter 5-6 inches from the bottom but still it settles down. This makes the cleaning very difficult as it sticks at the bottom and I have to scrap it. Hence, 2/5 ratings.\", 'AmazonBasics tries to white label many products under their name. Good idea, bad execution for this item.\\nThe litter is extremely bad in quality & looks like whoever is in charge of it is doing zero QC.\\nIt absorbs moisture from the waste & instead of clumping up like a proper bentonite based material it’ll instead transform into a soft, putty or clay-like substance that’s extremely hard & not to mention a highly irritating annoyance to clean up after cause you’ll need to scrape it up & still it won’t be completely clean in the litter tub as it’ll stick to the sides.\\nPlease do yourself a favour & skip this item. Other items even at 300 are doing a far better job & will actually clump up in an easy to clean up ball than this nasty mess known as A.Basics Cat Litter..', \"I had high expectations as most Amazon Basics products are good. The contents in the bag looked promising - small, dust free balls.\\nBut in 1-2 days it became clear that it doesn't clump properly. And my cats also did not use it as much as their old litter. Waste.\", \"I was misled by the high rating and positive reviews of this product. I did notice that those were primarily global reviews from other countries and not from India, but trusted Amazon to be consistent. Alas, the product delivered in India is just plain TERRIBLE. Does not do the job of what a cat litter is supposed to do. There is zero clumping, all the liquid goes and gets stuck at the bottom of the litter box and will crumble the moment you try to clean it. What used to take me 3-4 min with Petcrux cat litter took me more than 30 min with this Amazon Basics cat litter. I have no option but to throw 20 kg of cat litter away, it is that bad.\\nNo return or refund. Amazon says can't do anything about it since it has been over 5 days since delivery, implying that one should start using a product the moment they receive it from Amazon. Plus, it says it is upto the seller to decide now and that Amazon can't do anything. Hmmmph.\\nPS: DO NOT BUY THIS, IF YOU ARE IN INDIA.\", 'I have 9 cats and I am always looking for economically priced litter sand. Lucky for me I got my hands on this litter sand. This is an amazing product. It clumps cat poop and pee within minutes with absolutely 0 odor. My house smells fresh now. I would highly recommend this to cat owners.', \"It clumps well but absolutely no odour control. And trust me, it's necessary. It's smells so bad. Not worth it for the price.\", 'While this is a reasonably priced product it is quite difficult to use it indoors as it does not mask any bad smells at all. The bentonite quality is good. It is non-clumping though. Will never buy it again.', \"Impressed by Amazon Basics Cat Litter's use of natural bentonite for fast clumping and odor control. Its gentle texture is a hit with my cat, and the hassle-free cleanup keeps our space clean and fresh.\", \"Compared to Others this isn't Good. It was Taking a lot of Sand for Clumping. Please Improve your Quality Amazon Basics!\", \"Proper clamping is not there. I didn't liked the product\", 'Not worth it. Better to skip this one.', 'Does not help with the smell, my cat hates it.', \"This one of the best litter I've tried for my Cat 🐈.\\nAs i used many brands but out of all this brand deserved 5 star interms of quality. Best clumping observed.\\n\\nSomething which I observed and wants to share 1 simple message to all pet lovers , we all user have to clean the litter tray regularly, if not the pee clumps will break and mix with the litter sand start smelling. This is generally happen with any litter..\", 'Does not clump', \"The beads are so small that it gets stuck in your cars paws and then it's tracked all over the house. It fails to trapnodour properly and also is a pain to clean. The absorption power is just horrible and fails to clump properly. Lastly when it is time to clean the litter the failed clumps that do form crumble when you try to take them out because they stick to the litter box like glue. Please avoid this and go for something more expensive like cat exclusive. You won't regret it.\", 'Good product with lightning delivery. No fragrance, scoopable, moisture absorbing. Value for money.', 'Ok', \"I got this litter in my mail on 19th of July. Its hasn't even been 10 days. A 5kg bag lasts a month for one cat, but I might as well throw this litter away. It didn't even last10 days. It doesnt clump AT ALL. It spreads like jam and sticks to the pan like glue. And it also doesn't prevent odor. Will not purchase ever again. :( This was a waste of money.\", 'Absolute value for money', \" Within 3 days the litter box started to stink. We had to purchase an odor control spray but that didn't even work either. All the pee settles at the bottom of the litter box and doesn't even clump. It was caused us extensive nasal issues. And let's not even talk about the price. Horrible product. Solimo should stop trying to tap into all the markets, if you cannot make quality products that too at such a high price you are taking away money from deserving companies and that's not fair!\", 'It does not clump up. I filled the box nearly full, so the depth of the litter is not the issue. Cat pee collects in the bottom of the litter mix as a muddy mess. I bought it twice, like a fool, to verify. Well, I now am convinced. Do not buy.', \"This clump is not good its too hard after wet ... my cats are discomfort with this even they don't want to go in litter box bcz of this clump they are start doing outside the litter box .. after wet it's became like solid clay not easy to dispose also\", 'Value for money', 'Less dust', 'Good product and value for money compared to the products available in the market', 'Wonderful Product\\n\\nHighly recommended, Very good quality product. My cat started using it from Day 1. Now my home is free of odor and very less cleaning efforts.\\n\\nThank You Amazon Basics team.', 'Plz dont buy, its NON SCENTED, so once u start using it u will get very bad odour as expected, plz buy only scented sand', 'Excess of dust in this product, very bad smell, even my eyes gets red & itchy when cleaning litter..\\nNo clumping', \"It is not at all scoopable. The clay gets stuck at the bottom and it's near impossible to get it loose. Do not recommend. Will never buy again.\", \"This one is such a bad cat litter. doesn't clump at all. Cat pee stick to the bottom of the litter box without clump, making it difficult to clean because it is sticky and not dry.\\n\\nTotal waste of money\", 'I have used multiple litters for my cats and thought i had seen the worst of them. But this has to be the actual worst of them all. Does not clump, does not contain the odour. Will not recommend', 'Bad litter. Takes long time to clump,and litter smells bad and becomes less dry in 3 days itself. Do not recommend', 'This is not observing the kitten urine. It goes and deposits in bottom of litter box. Not meet the purpose. Don’t buy.', 'This must be one of the worst litters ever used. Does not clump and the litter box needs to be chiseled and scraped all the time. Quality is extremely poor. Would never recommend this product.', \"It doesn't clump rather becomes super sticky. It's such a hassle to clean from the litter box. Took me 1 hour to clean the first time I used it. It doesn't control odor at all.\", 'Urine se clump nahi banta hai , niche chala jata hai aur chipak jata hai tray se, fir nikalne me halat kharab', 'The littre becomes like glue\\nMakes it very diff to scoop out\\n\\nBest I have used so far is drools littre', 'The sand is not at all good, doesn’t clump properly', \"Never go for this litter. It's sticky at the bottom due to liquid/pee. It would take forever to clean the box. Opt for any other litter.\", 'Not effective in clumping. Litter stays wet even after a day. Gets hardened on the bottom of litter box and difficult to scoop. Poor quality.', 'The litter clumps badly and stick to the tub. Turns out unhygienic as it breaks off while scooping. Total unworthy', 'Bad quality! Doesn’t clump at all hence messy to clean! Waste of money.\\nWill never purchase again!', 'Does not clump. Forms a paste when cat pees on it. Impossible to remove from litter tray. Not scoopabale. Garbage product', 'It doesn’t clump up cats urine and instead sticks in the bottom, making it very difficult to clean.\\nLitter box also ends up being dirty.', 'All the urine seeps to the base of tray... Forming a sticky paste .\\nBad product', 'The product is totally useless . the liquid drains to bottom and sticks to the tray . basic idea of fast clumping is missing', \"this one is such a bad cat litter. doesn't clump at all. All the amazonbasics products are horrible quality. they lure customers with low price. in return they sell bad quality cheap products.\", 'It’s not just cats hated it also it’s doesn’t clamp properly', \"It won't clump the sand, it makes the litter sand so so hard that you won't be able to clump it.\", 'Not forming lump ,', 'Not good product 😞', 'Cat pee stick to the bottom of the litter box without clump, making it difficult to clean because it is sticky and not dry', 'Very bad product, pls dont buy this one.', 'Litter gets stuck to the box even after adding the full packet no odor lock', \"Don't buy Amazon basics litter sand it's a poor quality product.\", 'My Cat Hated it and Started Using Floor. Not buying again.', 'Dislike', 'Dont go with the cheap price.. not worth buying... either your cat or you will not like the odor from the litter.. no good smell..', 'Crumbling is bad.', 'Zero observation and stinks a lot worst litter', \"Don't buy this product.\", 'Total waste of money', \"I wouldn't say that this is the best product I have ever received. It doesn't clumps up cat's urine instead it sticks to the bottom of the litter box and it becomes very difficult to clean it up. Even though I have four cats, it does helps me controlling the odour. I would recommend any one who has 1 cat to go for this product.\", 'The pee settles in the bottom and the clumping is very average. Decent odour control but very poor otherwise. There are better ones out there', 'This Cat Litter is made of 100% natural Bentonite. It’s a fantastic find. Its dust free, absorbs moisture quickly, clumps easily for hassle free cleaning, and has a texture that my cat loves. I highly recommend it to all cat owners.👍', 'Clumpping and easy to scoop\\n\\nNice product and priced at good rate availble in multipack which make it a great buy', 'Good purchases must try\\nEasy to scoop\\nGood packaging\\nMy pet is loving it\\n\\nGreat product\\n\\nLove it good worth it', 'Value for money.\\nGreat packaging\\nWorth buying\\nMust try for all cat lovers\\n\\nNice Product thanks Amazon keep bring such products', 'Amazon basics cat litter works as expected price, quality and packaging are good. No regret buy got this as gift', 'This amazon basics cats litter porous and absorbs odours, making it ideal for cats. My both cats are particular about their toileting habits, so a suitable area where they can do their business happily is important to their well-being. So this product rating is 5out of 5 from my end', \"Our domestic shorthair, Frank, is a large 5.8kg (13lb) cat, who kept pooping outside of all the standard size litter boxes we'd buy for him. He would try to fit the long way, but his butt would constantly hang over the side or he would poop on the litter box wall, because he was too big. This box is absolutely perfect for larger cats. The sides are high so it captures any and all spray, and even if he stands the short way (with his butt facing the door) to poop, it's always in the box and not on the wall. Can highly recommend this for larger cats! We don't have a lot of space to fit a box, so we needed a corner one to save space. This was larger than we'd like (see pictures) but it works, and that's what counts.\\nYou sent\", \"I have big ol cats. Not Maine Coon level but still large kitties. (although these would work for Maine Coons). For those familiar with the Natures Miracle corner litter box, prepared to be amazed. This box is slightly larger/wider, it doesn't have those annoying brand/label stickers pasted on it that never seem to come off, and the clumped litter doesn't stick to the sides as easily as a normal litter box. I think that these boxes are also more aesthetically pleasing with the beige coloring.\", 'I have tried probably 5 or 6 different litter boxes and even used a giant plastic storage tote to try and find a good litter box for my cats. My main issue is I have one cat who doesn’t fully squat when she pees so she tends to pee outside the box on accident. Most of the litter boxes have failed to keep her from peeing outside of it. But with this covered box she hasn’t peed outside the box. I ordered a second one because I was so impressed this one worked! I’m very pleased with this litter box.', 'I like the way this fits into a corner, my cats love this for what I can only guess is the privacy...lol. I have several cats and had 2 litter boxes. I replaced one with this one and the cats use this one pretty much all time. Top easily snaps on and off for easy cleaning. Buying another. I highly recommend!!', 'I have a 15lb cat who is 19 years old. She needs room to turn around in the box and it to be sturdy enough not to move around and freak her out. The shape makes it very convenient to put in a corner so the entrance is easier for your cat to have enough room to comfortably get in and out of the box.', 'It’s hard to think of a litter box in terms of “perfection” but if you are a cat person you know how important a good litter box is. This one (the triangle/corner box) is NEARLY perfect. Size-wise it’s the same as the Nature’s Miracle corner box, which for me is the gold standard for corner litter boxes. I think the entry is a bit shorter, which is fine for my cats, but the removal of one star is for the lip around the interior. First, I’m not sure why it’s really necessary and second, since it’s there, it is places far too low and impedes scooping. The ridge should be a few inches higher or eliminated altogether so that when scooping against the sides there is no interruption/impediment to the scooper. I don’t not recommend this because of that, it’s still a very good litter box (especially if it has to be in a corner) for the price, but the nature’s miracle box is still #1', \"I have been looking for a big litter box for my 10lb rabbit for foreeeevvver and I finally found one that works! My rabbit is about the size of a young main coon cat and this gives her a ton of space to potty in. The sides are high but the lip is easy for her to jump over. I bought industrial trash bags to line it with bc my bun won't bite them but they fit perfectly over and make it easy to clean. If you have a big cat or house rabbit then looks no further because this is the one!\\n\\n(My rabbit is shaved for summer bc she's an angora mix, that's why she looks weird don't judge her)\", 'I loved the size and head room the cats have. They don’t have to walk over a mess to find an area to use. It is a bit flimsy and would be perfect if the plastic was a grade or two better. Definitely can’t pick it up or slide it over using the handle. It would break. Must use the bottom half to move it aside.', 'We have two litter boxes, the cats pretty much only use this one. Easy to clean, easy to put into a closet, and prevents most splatter/litter getting kicked out. You will still need a litter mat though', \"I have one cat that's the awkward type, and not quite as coordinated as our other cat. She loves the extra room in this one and it's nice that the box fits in a corner.\", 'We have two very large breed cats. We have tried many litter boxes. We always buy two. We bought two of these years ago and one is large enough to handle both cats. They are easy to clean and made in a way that they are the least messy boxes we’ve had. Litter stays in the box because it’s deep enough for cats to scratch around and not have it go flying all over the floor. We just bought our third one. The first two lasted a long time. This is the only litter box we’ll use. I hope they never stop making these.', 'This is a great letter box for a larger cat. Mine had a hard time spinning around and frequently \"messed\" on the sides because it lacked the space for him to turn around. I am pleased also that it is much easier to clean waste between litter changes because the lid snaps on and off so easily.', 'my daughter has one. she told me where she bought it. So of course, i had to get one. my apartment is very small so it fits', 'Love it. It’s so spacious, both the kitties love it so much they barely use the other three litter boxes now 😅 It would have been perfect with a door .', 'This little box is very large. No complaints, no special featured to boast. It’ll do the job and is a nice size for fussy (or fat) cats who like to have extra room when they use the litter box.', 'I feel like this is the Taj Mahal of litter boxes and having a red carpet with lights leading up to it would give it the best vibes. The thing is so HUGE its the perfect size for a grand entrance. I joke that I could fit a tiny arm chair and TV in the thing for my cat... if you are looking for tiny, this is not it. If you want a giant honking thing in the corner of a room that a small Yorkie can fit inside of and for a midsized dog to fit his head in perfectly to eat what he considers tasty treats... then this is the perfect litter box for you.', 'Loved that it fits into a small closet and was still big enough for my oversized cat!', 'Larger than the jumbo catit we purchased last time. Just as great and roomier.', 'It is big but fits nicely in a corner. I like that it is deep so that there isn’t any more litter kicked out of the box.', 'Great size for my two kittens. They went right to it and it is their favorite litter box. Love the triangle. Fits nicely in any corner. Good price too. Very satisfied with it.']\n"
     ]
    }
   ],
   "source": [
    "reviews = []\n",
    "'''nextreviewpage = browser.find_element(By.XPATH,\"//li[@class='a-last']\")\n",
    "review = browser.find_elements(By.CLASS_NAME,'a-size-base.review-text.review-text-content')\n",
    "for r in review:\n",
    "    rt = r.text\n",
    "    reviews.append(rt)\n",
    "    time.sleep(1)'''\n",
    "i=0\n",
    "while True:\n",
    "    try:\n",
    "        if i == 0:\n",
    "            review = browser.find_elements(By.CLASS_NAME,'a-size-base.review-text.review-text-content')\n",
    "            for r in review:\n",
    "                rt = r.text\n",
    "                reviews.append(rt)\n",
    "        if browser.find_element(By.XPATH, \"//li[@class='a-last']\"):\n",
    "            i+=1\n",
    "            nextreviewpage = browser.find_element(By.XPATH,\"//li[@class='a-last']\")\n",
    "            nextreviewpage.click()\n",
    "            time.sleep(2)\n",
    "            review = browser.find_elements(By.CLASS_NAME,'a-size-base.review-text.review-text-content')\n",
    "            for r in review:\n",
    "                rt = r.text\n",
    "                reviews.append(rt)\n",
    "        else:\n",
    "            print('else')\n",
    "            review = browser.find_elements(By.CLASS_NAME,'a-size-base.review-text.review-text-content')\n",
    "            for r in review:\n",
    "                rt = r.text\n",
    "                reviews.append(rt)\n",
    "            print(reviews)\n",
    "            break\n",
    "    except (StaleElementReferenceException, ElementClickInterceptedException, TimeoutException, NoSuchElementException):\n",
    "        print(reviews)\n",
    "        break\n"
   ]
  },
  {
   "cell_type": "code",
   "execution_count": 5,
   "id": "7bccc55a",
   "metadata": {},
   "outputs": [
    {
     "data": {
      "text/plain": [
       "100"
      ]
     },
     "execution_count": 5,
     "metadata": {},
     "output_type": "execute_result"
    }
   ],
   "source": [
    "len(reviews)"
   ]
  },
  {
   "cell_type": "code",
   "execution_count": 2,
   "id": "13522e7e",
   "metadata": {},
   "outputs": [],
   "source": []
  },
  {
   "cell_type": "code",
   "execution_count": null,
   "id": "27f29a31",
   "metadata": {},
   "outputs": [],
   "source": []
  }
 ],
 "metadata": {
  "kernelspec": {
   "display_name": "Python 3 (ipykernel)",
   "language": "python",
   "name": "python3"
  },
  "language_info": {
   "codemirror_mode": {
    "name": "ipython",
    "version": 3
   },
   "file_extension": ".py",
   "mimetype": "text/x-python",
   "name": "python",
   "nbconvert_exporter": "python",
   "pygments_lexer": "ipython3",
   "version": "3.11.4"
  }
 },
 "nbformat": 4,
 "nbformat_minor": 5
}
